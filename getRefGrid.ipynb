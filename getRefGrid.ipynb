{
 "cells": [
  {
   "cell_type": "code",
   "execution_count": 40,
   "id": "85aec2b3-7170-43ac-8d3e-9e604d37061b",
   "metadata": {},
   "outputs": [],
   "source": [
    "import numpy as np\n",
    "import cv2\n",
    "import json"
   ]
  },
  {
   "cell_type": "code",
   "execution_count": 36,
   "id": "35a24e9d-24cb-4c33-8277-ff41ebd369c2",
   "metadata": {},
   "outputs": [],
   "source": [
    "# coordinates of first hexagon\n",
    "import numpy as np\n",
    "\n",
    "# Define hex sizes, tweak these until it looks correct\n",
    "HEX_WIDTH = 59  # px\n",
    "HEX_HEIGHT = 50  # px\n",
    "\n",
    "# Calculate horizontal and vertical center-to-center spacing\n",
    "HEX_H_SPACING = 0.75 * HEX_WIDTH \n",
    "HEX_V_SPACING = HEX_HEIGHT \n",
    "\n",
    "# Define grid structure (5 cols, alternating 5 & 4 hexes per column)\n",
    "grid_structure = [5, 4, 5, 4, 5]  # Number of hexes per column\n",
    "\n",
    "# Define top-left position for first hex (adjust based on actual board positioning)\n",
    "first_hex_x, first_hex_y = 27, 25  # Adjust based on detected board top-left corner\n",
    "\n",
    "# Generate hex grid positions (column-first approach)\n",
    "hex_positions = []\n",
    "for col_index, num_hexes in enumerate(grid_structure):  # Iterate by column first\n",
    "    for row in range(num_hexes):\n",
    "        x = first_hex_x + col_index * HEX_H_SPACING\n",
    "        y = first_hex_y + row * HEX_V_SPACING\n",
    "\n",
    "        # Offset columns that have 4 hexes by shifting down slightly\n",
    "        if num_hexes == 4:\n",
    "            y += HEX_V_SPACING / 2\n",
    "\n",
    "        hex_positions.append((int(x), int(y)))  # Convert to int\n"
   ]
  },
  {
   "cell_type": "code",
   "execution_count": 37,
   "id": "57be1c60-1220-45b3-9363-8b90a3ac80de",
   "metadata": {},
   "outputs": [],
   "source": [
    "image = cv2.imread('cropped_Blank.jpg')\n",
    "\n",
    "# check positions\n",
    "for (x, y) in hex_positions:\n",
    "    cv2.circle(image, (x, y), radius=5, color=(0, 0, 255), thickness=-1)  # Red dots\n",
    "\n",
    "cv2.imshow('', image)\n",
    "cv2.waitKey(0)\n",
    "cv2.destroyAllWindows()"
   ]
  },
  {
   "cell_type": "code",
   "execution_count": 41,
   "id": "97dc52b0-8581-4ad1-8c7d-53ef88ec559c",
   "metadata": {},
   "outputs": [],
   "source": [
    "# Save hex positions to JSON file\n",
    "with open(\"hex_positions.json\", \"w\") as f:\n",
    "    json.dump(hex_positions, f, indent=4)"
   ]
  }
 ],
 "metadata": {
  "kernelspec": {
   "display_name": "Python 3 (ipykernel)",
   "language": "python",
   "name": "python3"
  },
  "language_info": {
   "codemirror_mode": {
    "name": "ipython",
    "version": 3
   },
   "file_extension": ".py",
   "mimetype": "text/x-python",
   "name": "python",
   "nbconvert_exporter": "python",
   "pygments_lexer": "ipython3",
   "version": "3.10.13"
  }
 },
 "nbformat": 4,
 "nbformat_minor": 5
}
