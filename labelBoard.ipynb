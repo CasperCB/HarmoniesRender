{
 "cells": [
  {
   "cell_type": "code",
   "execution_count": 1,
   "id": "98370572-b99a-42bd-aa0f-eaf3ca48f51a",
   "metadata": {},
   "outputs": [],
   "source": [
    "# purpose of this script is to gather pixel counts for different instances of terrain token / cube placements\n",
    "# the labeled data created from this script will be used to create feature vectors that can be used for pattern detection"
   ]
  },
  {
   "cell_type": "code",
   "execution_count": 2,
   "id": "3125c83a-2c71-4df7-ab0a-c94a52b1fff6",
   "metadata": {},
   "outputs": [],
   "source": [
    "import cv2\n",
    "import json\n",
    "import numpy as np"
   ]
  },
  {
   "cell_type": "code",
   "execution_count": 6,
   "id": "6135d6cd-4b15-4832-82ed-41624969ab35",
   "metadata": {},
   "outputs": [],
   "source": [
    "# load image cropped to board size\n",
    "name = 'Board6'\n",
    "board = cv2.imread('C:/Users/lacto/Documents/GitHub/HarmoniesRender/training_boards/cropped_'+ name + '.jpg')\n",
    "\n",
    "# get coordinates of hexagons after cropping \n",
    "f = open('hex_positions.json')\n",
    "hex_centers = json.load(f)\n",
    "# color ranges for game components\n",
    "color_ranges = {\n",
    "    \"red\": ((158, 37, 45), (253, 131, 122)),  \n",
    "    \"blue\": ((29, 118, 127), (126, 223, 236)),\n",
    "    \"green\": ((126, 130, 23), (211, 222, 103)),\n",
    "    \"yellow\": ((202, 167, 25), (255, 231, 103)),\n",
    "    \"gray\": ((109, 109, 109), (183, 180, 178)),  \n",
    "    \"brown\": ((67, 41, 20), (146, 97, 65)),\n",
    "    \"board\":((223, 202, 168), (234, 214, 185)),\n",
    "    \"spirit\": ((159, 127, 88), (252, 248, 242)),\n",
    "    \"animal\": ((198, 63, 28), (255, 156, 92))\n",
    "}\n",
    "\n",
    "# region of interest (ROI) parameters, in pixels\n",
    "roi_w = 10\n",
    "roi_l = 25"
   ]
  },
  {
   "cell_type": "code",
   "execution_count": 4,
   "id": "d2388fea-d7cd-45fc-940b-430ddb6ad60e",
   "metadata": {},
   "outputs": [],
   "source": [
    "# display image to compare while counting pixel values\n",
    "cv2.imshow('', board)\n",
    "cv2.waitKey(0)\n",
    "cv2.destroyAllWindows()"
   ]
  },
  {
   "cell_type": "code",
   "execution_count": 5,
   "id": "382857d3-33a1-42e9-b3b8-9074a3def9a7",
   "metadata": {},
   "outputs": [
    {
     "name": "stdout",
     "output_type": "stream",
     "text": [
      "\n",
      "Hex at (27, 25):\n",
      "  red: 1 pixels\n",
      "  blue: 0 pixels\n",
      "  green: 7 pixels\n",
      "  yellow: 336 pixels\n",
      "  gray: 49 pixels\n",
      "  brown: 20 pixels\n",
      "  board: 290 pixels\n",
      "  spirit: 207 pixels\n",
      "  animal: 4 pixels\n"
     ]
    },
    {
     "name": "stdin",
     "output_type": "stream",
     "text": [
      "Enter label for this hex (e.g., 'empty', 'red', 'blue + cube'):  yellow\n"
     ]
    },
    {
     "name": "stdout",
     "output_type": "stream",
     "text": [
      "\n",
      "Hex at (27, 75):\n",
      "  red: 159 pixels\n",
      "  blue: 0 pixels\n",
      "  green: 7 pixels\n",
      "  yellow: 0 pixels\n",
      "  gray: 77 pixels\n",
      "  brown: 13 pixels\n",
      "  board: 145 pixels\n",
      "  spirit: 300 pixels\n",
      "  animal: 2 pixels\n"
     ]
    },
    {
     "name": "stdin",
     "output_type": "stream",
     "text": [
      "Enter label for this hex (e.g., 'empty', 'red', 'blue + cube'):  spirit, red, red\n"
     ]
    },
    {
     "name": "stdout",
     "output_type": "stream",
     "text": [
      "\n",
      "Hex at (27, 125):\n",
      "  red: 83 pixels\n",
      "  blue: 142 pixels\n",
      "  green: 6 pixels\n",
      "  yellow: 6 pixels\n",
      "  gray: 49 pixels\n",
      "  brown: 45 pixels\n",
      "  board: 233 pixels\n",
      "  spirit: 146 pixels\n",
      "  animal: 107 pixels\n"
     ]
    },
    {
     "name": "stdin",
     "output_type": "stream",
     "text": [
      "Enter label for this hex (e.g., 'empty', 'red', 'blue + cube'):  animal, blue\n"
     ]
    },
    {
     "name": "stdout",
     "output_type": "stream",
     "text": [
      "\n",
      "Hex at (27, 175):\n",
      "  red: 2 pixels\n",
      "  blue: 0 pixels\n",
      "  green: 6 pixels\n",
      "  yellow: 0 pixels\n",
      "  gray: 64 pixels\n",
      "  brown: 471 pixels\n",
      "  board: 297 pixels\n",
      "  spirit: 137 pixels\n",
      "  animal: 0 pixels\n"
     ]
    },
    {
     "name": "stdin",
     "output_type": "stream",
     "text": [
      "Enter label for this hex (e.g., 'empty', 'red', 'blue + cube'):  brown\n"
     ]
    },
    {
     "name": "stdout",
     "output_type": "stream",
     "text": [
      "\n",
      "Hex at (27, 225):\n",
      "  red: 2 pixels\n",
      "  blue: 0 pixels\n",
      "  green: 2 pixels\n",
      "  yellow: 0 pixels\n",
      "  gray: 46 pixels\n",
      "  brown: 640 pixels\n",
      "  board: 121 pixels\n",
      "  spirit: 102 pixels\n",
      "  animal: 0 pixels\n"
     ]
    },
    {
     "name": "stdin",
     "output_type": "stream",
     "text": [
      "Enter label for this hex (e.g., 'empty', 'red', 'blue + cube'):  brown, brown\n"
     ]
    },
    {
     "name": "stdout",
     "output_type": "stream",
     "text": [
      "\n",
      "Hex at (71, 50):\n",
      "  red: 1 pixels\n",
      "  blue: 0 pixels\n",
      "  green: 8 pixels\n",
      "  yellow: 338 pixels\n",
      "  gray: 40 pixels\n",
      "  brown: 18 pixels\n",
      "  board: 292 pixels\n",
      "  spirit: 209 pixels\n",
      "  animal: 4 pixels\n"
     ]
    },
    {
     "name": "stdin",
     "output_type": "stream",
     "text": [
      "Enter label for this hex (e.g., 'empty', 'red', 'blue + cube'):  yellow\n"
     ]
    },
    {
     "name": "stdout",
     "output_type": "stream",
     "text": [
      "\n",
      "Hex at (71, 100):\n",
      "  red: 0 pixels\n",
      "  blue: 0 pixels\n",
      "  green: 372 pixels\n",
      "  yellow: 69 pixels\n",
      "  gray: 55 pixels\n",
      "  brown: 94 pixels\n",
      "  board: 276 pixels\n",
      "  spirit: 200 pixels\n",
      "  animal: 0 pixels\n"
     ]
    },
    {
     "name": "stdin",
     "output_type": "stream",
     "text": [
      "Enter label for this hex (e.g., 'empty', 'red', 'blue + cube'):  green\n"
     ]
    },
    {
     "name": "stdout",
     "output_type": "stream",
     "text": [
      "\n",
      "Hex at (71, 150):\n",
      "  red: 80 pixels\n",
      "  blue: 147 pixels\n",
      "  green: 4 pixels\n",
      "  yellow: 7 pixels\n",
      "  gray: 69 pixels\n",
      "  brown: 49 pixels\n",
      "  board: 243 pixels\n",
      "  spirit: 158 pixels\n",
      "  animal: 107 pixels\n"
     ]
    },
    {
     "name": "stdin",
     "output_type": "stream",
     "text": [
      "Enter label for this hex (e.g., 'empty', 'red', 'blue + cube'):  animal, blue\n"
     ]
    },
    {
     "name": "stdout",
     "output_type": "stream",
     "text": [
      "\n",
      "Hex at (71, 200):\n",
      "  red: 80 pixels\n",
      "  blue: 137 pixels\n",
      "  green: 8 pixels\n",
      "  yellow: 7 pixels\n",
      "  gray: 75 pixels\n",
      "  brown: 42 pixels\n",
      "  board: 208 pixels\n",
      "  spirit: 175 pixels\n",
      "  animal: 109 pixels\n"
     ]
    },
    {
     "name": "stdin",
     "output_type": "stream",
     "text": [
      "Enter label for this hex (e.g., 'empty', 'red', 'blue + cube'):  animal, blue\n"
     ]
    },
    {
     "name": "stdout",
     "output_type": "stream",
     "text": [
      "\n",
      "Hex at (115, 25):\n",
      "  red: 0 pixels\n",
      "  blue: 324 pixels\n",
      "  green: 0 pixels\n",
      "  yellow: 0 pixels\n",
      "  gray: 55 pixels\n",
      "  brown: 0 pixels\n",
      "  board: 258 pixels\n",
      "  spirit: 192 pixels\n",
      "  animal: 0 pixels\n"
     ]
    },
    {
     "name": "stdin",
     "output_type": "stream",
     "text": [
      "Enter label for this hex (e.g., 'empty', 'red', 'blue + cube'):  blue\n"
     ]
    },
    {
     "name": "stdout",
     "output_type": "stream",
     "text": [
      "\n",
      "Hex at (115, 75):\n",
      "  red: 3 pixels\n",
      "  blue: 0 pixels\n",
      "  green: 7 pixels\n",
      "  yellow: 337 pixels\n",
      "  gray: 41 pixels\n",
      "  brown: 22 pixels\n",
      "  board: 303 pixels\n",
      "  spirit: 200 pixels\n",
      "  animal: 3 pixels\n"
     ]
    },
    {
     "name": "stdin",
     "output_type": "stream",
     "text": [
      "Enter label for this hex (e.g., 'empty', 'red', 'blue + cube'):  yellow\n"
     ]
    },
    {
     "name": "stdout",
     "output_type": "stream",
     "text": [
      "\n",
      "Hex at (115, 125):\n",
      "  red: 362 pixels\n",
      "  blue: 0 pixels\n",
      "  green: 5 pixels\n",
      "  yellow: 0 pixels\n",
      "  gray: 40 pixels\n",
      "  brown: 13 pixels\n",
      "  board: 96 pixels\n",
      "  spirit: 122 pixels\n",
      "  animal: 13 pixels\n"
     ]
    },
    {
     "name": "stdin",
     "output_type": "stream",
     "text": [
      "Enter label for this hex (e.g., 'empty', 'red', 'blue + cube'):  red, red\n"
     ]
    },
    {
     "name": "stdout",
     "output_type": "stream",
     "text": [
      "\n",
      "Hex at (115, 175):\n",
      "  red: 79 pixels\n",
      "  blue: 146 pixels\n",
      "  green: 3 pixels\n",
      "  yellow: 6 pixels\n",
      "  gray: 88 pixels\n",
      "  brown: 44 pixels\n",
      "  board: 224 pixels\n",
      "  spirit: 170 pixels\n",
      "  animal: 106 pixels\n"
     ]
    },
    {
     "name": "stdin",
     "output_type": "stream",
     "text": [
      "Enter label for this hex (e.g., 'empty', 'red', 'blue + cube'):  animal, blue\n"
     ]
    },
    {
     "name": "stdout",
     "output_type": "stream",
     "text": [
      "\n",
      "Hex at (115, 225):\n",
      "  red: 240 pixels\n",
      "  blue: 0 pixels\n",
      "  green: 15 pixels\n",
      "  yellow: 7 pixels\n",
      "  gray: 50 pixels\n",
      "  brown: 64 pixels\n",
      "  board: 86 pixels\n",
      "  spirit: 122 pixels\n",
      "  animal: 118 pixels\n"
     ]
    },
    {
     "name": "stdin",
     "output_type": "stream",
     "text": [
      "Enter label for this hex (e.g., 'empty', 'red', 'blue + cube'):  animal, red, gray\n"
     ]
    },
    {
     "name": "stdout",
     "output_type": "stream",
     "text": [
      "\n",
      "Hex at (159, 50):\n",
      "  red: 230 pixels\n",
      "  blue: 0 pixels\n",
      "  green: 5 pixels\n",
      "  yellow: 11 pixels\n",
      "  gray: 24 pixels\n",
      "  brown: 210 pixels\n",
      "  board: 90 pixels\n",
      "  spirit: 113 pixels\n",
      "  animal: 128 pixels\n"
     ]
    },
    {
     "name": "stdin",
     "output_type": "stream",
     "text": [
      "Enter label for this hex (e.g., 'empty', 'red', 'blue + cube'):  animal, red, brown\n"
     ]
    },
    {
     "name": "stdout",
     "output_type": "stream",
     "text": [
      "\n",
      "Hex at (159, 100):\n",
      "  red: 0 pixels\n",
      "  blue: 0 pixels\n",
      "  green: 368 pixels\n",
      "  yellow: 49 pixels\n",
      "  gray: 38 pixels\n",
      "  brown: 97 pixels\n",
      "  board: 253 pixels\n",
      "  spirit: 180 pixels\n",
      "  animal: 0 pixels\n"
     ]
    },
    {
     "name": "stdin",
     "output_type": "stream",
     "text": [
      "Enter label for this hex (e.g., 'empty', 'red', 'blue + cube'):  green\n"
     ]
    },
    {
     "name": "stdout",
     "output_type": "stream",
     "text": [
      "\n",
      "Hex at (159, 150):\n",
      "  red: 76 pixels\n",
      "  blue: 0 pixels\n",
      "  green: 165 pixels\n",
      "  yellow: 12 pixels\n",
      "  gray: 45 pixels\n",
      "  brown: 116 pixels\n",
      "  board: 215 pixels\n",
      "  spirit: 198 pixels\n",
      "  animal: 102 pixels\n"
     ]
    },
    {
     "name": "stdin",
     "output_type": "stream",
     "text": [
      "Enter label for this hex (e.g., 'empty', 'red', 'blue + cube'):  animal, green\n"
     ]
    },
    {
     "name": "stdout",
     "output_type": "stream",
     "text": [
      "\n",
      "Hex at (159, 200):\n",
      "  red: 0 pixels\n",
      "  blue: 339 pixels\n",
      "  green: 20 pixels\n",
      "  yellow: 0 pixels\n",
      "  gray: 71 pixels\n",
      "  brown: 0 pixels\n",
      "  board: 237 pixels\n",
      "  spirit: 190 pixels\n",
      "  animal: 0 pixels\n"
     ]
    },
    {
     "name": "stdin",
     "output_type": "stream",
     "text": [
      "Enter label for this hex (e.g., 'empty', 'red', 'blue + cube'):  blue\n"
     ]
    },
    {
     "name": "stdout",
     "output_type": "stream",
     "text": [
      "\n",
      "Hex at (204, 25):\n",
      "  red: 0 pixels\n",
      "  blue: 341 pixels\n",
      "  green: 0 pixels\n",
      "  yellow: 0 pixels\n",
      "  gray: 50 pixels\n",
      "  brown: 0 pixels\n",
      "  board: 279 pixels\n",
      "  spirit: 170 pixels\n",
      "  animal: 0 pixels\n"
     ]
    },
    {
     "name": "stdin",
     "output_type": "stream",
     "text": [
      "Enter label for this hex (e.g., 'empty', 'red', 'blue + cube'):  blue\n"
     ]
    },
    {
     "name": "stdout",
     "output_type": "stream",
     "text": [
      "\n",
      "Hex at (204, 75):\n",
      "  red: 75 pixels\n",
      "  blue: 0 pixels\n",
      "  green: 157 pixels\n",
      "  yellow: 11 pixels\n",
      "  gray: 36 pixels\n",
      "  brown: 107 pixels\n",
      "  board: 230 pixels\n",
      "  spirit: 190 pixels\n",
      "  animal: 103 pixels\n"
     ]
    },
    {
     "name": "stdin",
     "output_type": "stream",
     "text": [
      "Enter label for this hex (e.g., 'empty', 'red', 'blue + cube'):  animal, green\n"
     ]
    },
    {
     "name": "stdout",
     "output_type": "stream",
     "text": [
      "\n",
      "Hex at (204, 125):\n",
      "  red: 0 pixels\n",
      "  blue: 0 pixels\n",
      "  green: 0 pixels\n",
      "  yellow: 0 pixels\n",
      "  gray: 17 pixels\n",
      "  brown: 0 pixels\n",
      "  board: 961 pixels\n",
      "  spirit: 39 pixels\n",
      "  animal: 0 pixels\n"
     ]
    },
    {
     "name": "stdin",
     "output_type": "stream",
     "text": [
      "Enter label for this hex (e.g., 'empty', 'red', 'blue + cube'):  none\n"
     ]
    },
    {
     "name": "stdout",
     "output_type": "stream",
     "text": [
      "\n",
      "Hex at (204, 175):\n",
      "  red: 74 pixels\n",
      "  blue: 0 pixels\n",
      "  green: 162 pixels\n",
      "  yellow: 15 pixels\n",
      "  gray: 42 pixels\n",
      "  brown: 107 pixels\n",
      "  board: 236 pixels\n",
      "  spirit: 182 pixels\n",
      "  animal: 99 pixels\n"
     ]
    },
    {
     "name": "stdin",
     "output_type": "stream",
     "text": [
      "Enter label for this hex (e.g., 'empty', 'red', 'blue + cube'):  animal, green\n"
     ]
    },
    {
     "name": "stdout",
     "output_type": "stream",
     "text": [
      "\n",
      "Hex at (204, 225):\n",
      "  red: 2 pixels\n",
      "  blue: 0 pixels\n",
      "  green: 0 pixels\n",
      "  yellow: 0 pixels\n",
      "  gray: 50 pixels\n",
      "  brown: 476 pixels\n",
      "  board: 268 pixels\n",
      "  spirit: 149 pixels\n",
      "  animal: 0 pixels\n"
     ]
    },
    {
     "name": "stdin",
     "output_type": "stream",
     "text": [
      "Enter label for this hex (e.g., 'empty', 'red', 'blue + cube'):  brown\n"
     ]
    },
    {
     "name": "stdout",
     "output_type": "stream",
     "text": [
      "\n",
      "✅ All vectors saved to labeled_hex_vectors.json.\n"
     ]
    }
   ],
   "source": [
    "# main - record pixels belonging to each type\n",
    "\n",
    "labeled_vectors = []\n",
    "# convert to rgb for color detection\n",
    "rgb = cv2.cvtColor(board, cv2.COLOR_BGR2RGB)\n",
    "\n",
    "for (hex_x, hex_y) in hex_centers:\n",
    "    roi = rgb[hex_y - roi_l : hex_y + roi_l, hex_x - roi_w : hex_x + roi_w]\n",
    "\n",
    "    vector = {}\n",
    "    print(f\"\\nHex at ({hex_x}, {hex_y}):\")\n",
    "\n",
    "    for token_type, (lower, upper) in color_ranges.items():\n",
    "        lower = np.array(lower, dtype=np.uint8)\n",
    "        upper = np.array(upper, dtype=np.uint8)\n",
    "\n",
    "        mask = cv2.inRange(roi, lower, upper)\n",
    "        pixel_count = cv2.countNonZero(mask)\n",
    "\n",
    "        if token_type == \"spirit\":\n",
    "            board_mask = cv2.inRange(roi, np.array(color_ranges[\"board\"][0]), np.array(color_ranges[\"board\"][1]))\n",
    "            pixel_count = max(0, pixel_count - cv2.countNonZero(board_mask))\n",
    "\n",
    "        vector[token_type] = pixel_count\n",
    "        print(f\"  {token_type}: {pixel_count} pixels\")\n",
    "\n",
    "    # Ask for label\n",
    "    label = input(\"Enter label for this hex (e.g., 'empty', 'red', 'blue + cube'): \")\n",
    "\n",
    "    labeled_vectors.append({\n",
    "        \"hex\": [hex_x, hex_y],\n",
    "        \"label\": label,\n",
    "        \"vector\": vector\n",
    "    })\n",
    "\n",
    "# Save to JSON\n",
    "with open(\"C:/Users/lacto/Documents/GitHub/HarmoniesRender/label_vectors/\" + name + \"_vectors.json\", \"w\") as f:\n",
    "    json.dump(labeled_vectors, f, indent=4)\n",
    "\n",
    "print(\"\\n✅ All vectors saved to labeled_hex_vectors.json.\")"
   ]
  }
 ],
 "metadata": {
  "kernelspec": {
   "display_name": "Python 3 (ipykernel)",
   "language": "python",
   "name": "python3"
  },
  "language_info": {
   "codemirror_mode": {
    "name": "ipython",
    "version": 3
   },
   "file_extension": ".py",
   "mimetype": "text/x-python",
   "name": "python",
   "nbconvert_exporter": "python",
   "pygments_lexer": "ipython3",
   "version": "3.10.13"
  }
 },
 "nbformat": 4,
 "nbformat_minor": 5
}
