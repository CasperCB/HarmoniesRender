{
 "cells": [
  {
   "cell_type": "code",
   "execution_count": 3,
   "id": "35b70665-8959-4e53-8943-3bf7b474889e",
   "metadata": {},
   "outputs": [],
   "source": [
    "import numpy as np\n",
    "import cv2\n",
    "import json"
   ]
  },
  {
   "cell_type": "code",
   "execution_count": 50,
   "id": "c6caa89b-568d-4678-815e-db63405a89c1",
   "metadata": {},
   "outputs": [],
   "source": [
    "# load image\n",
    "image = cv2.imread('blankBoard.png')"
   ]
  },
  {
   "cell_type": "code",
   "execution_count": 51,
   "id": "26e3fa44-29d1-4fd1-abe9-f82276bdae17",
   "metadata": {},
   "outputs": [],
   "source": [
    "# convert to gray and blur\n",
    "gray = cv2.cvtColor(image, cv2.COLOR_BGR2GRAY)\n",
    "blurred = cv2.blur(image, (10,10))\n",
    "\n",
    "# detect edges\n",
    "edges = cv2.Canny(gray, 50, 150)\n",
    "contours, _ = cv2.findContours(edges, cv2.RETR_EXTERNAL, cv2.CHAIN_APPROX_SIMPLE)\n",
    "\n",
    "# crop to game board\n",
    "largest_contour = max(contours, key=cv2.contourArea)\n",
    "x, y, w, h = cv2.boundingRect(largest_contour)\n",
    "board_region = image[y:y+h, x:x+w] "
   ]
  },
  {
   "cell_type": "code",
   "execution_count": 29,
   "id": "944c1013-511a-4607-a78c-ccecbe64380a",
   "metadata": {},
   "outputs": [
    {
     "name": "stdout",
     "output_type": "stream",
     "text": [
      "2452\n"
     ]
    }
   ],
   "source": [
    "print(len(largest_contour))"
   ]
  },
  {
   "cell_type": "code",
   "execution_count": 52,
   "id": "1cb8a200-cb68-45e4-aedc-e89dda48e08b",
   "metadata": {},
   "outputs": [
    {
     "data": {
      "text/plain": [
       "-1"
      ]
     },
     "execution_count": 52,
     "metadata": {},
     "output_type": "execute_result"
    }
   ],
   "source": [
    "cv2.imshow('', board_region)\n",
    "cv2.waitKey(0)"
   ]
  },
  {
   "cell_type": "code",
   "execution_count": 53,
   "id": "f7914786-041a-4f9a-bb8a-4f6f43537090",
   "metadata": {},
   "outputs": [
    {
     "data": {
      "text/plain": [
       "True"
      ]
     },
     "execution_count": 53,
     "metadata": {},
     "output_type": "execute_result"
    }
   ],
   "source": [
    "cv2.imwrite('cropped_Blank.jpg', board_region)"
   ]
  }
 ],
 "metadata": {
  "kernelspec": {
   "display_name": "Python 3 (ipykernel)",
   "language": "python",
   "name": "python3"
  },
  "language_info": {
   "codemirror_mode": {
    "name": "ipython",
    "version": 3
   },
   "file_extension": ".py",
   "mimetype": "text/x-python",
   "name": "python",
   "nbconvert_exporter": "python",
   "pygments_lexer": "ipython3",
   "version": "3.10.13"
  }
 },
 "nbformat": 4,
 "nbformat_minor": 5
}
