{
 "cells": [
  {
   "cell_type": "code",
   "execution_count": null,
   "id": "93cd1d13-2b38-42d7-b183-2cf8f3348d23",
   "metadata": {},
   "outputs": [],
   "source": [
    "import numpy as np\n",
    "import cv2\n",
    "import json"
   ]
  },
  {
   "cell_type": "code",
   "execution_count": 1,
   "id": "94d89262-9d21-4147-84de-09bc588d9df3",
   "metadata": {},
   "outputs": [],
   "source": [
    "## image processing functions ##\n",
    "\n",
    "def findBoard(image):\n",
    "# find location of game baord in input image using edge detection\n",
    "# return an image cropped to the game board\n",
    "    \n",
    "    # convert to gray and blur\n",
    "    gray = cv2.cvtColor(image, cv2.COLOR_BGR2GRAY)\n",
    "    \n",
    "    # detect edges\n",
    "    edges = cv2.Canny(gray, 50, 150)\n",
    "    contours, _ = cv2.findContours(edges, cv2.RETR_EXTERNAL, cv2.CHAIN_APPROX_SIMPLE)\n",
    "    \n",
    "    # crop to game board\n",
    "    largest_contour = max(contours, key=cv2.contourArea)\n",
    "    x, y, w, h = cv2.boundingRect(largest_contour)\n",
    "    board_region = image[y:y+h, x:x+w] \n",
    "\n",
    "    return board_region"
   ]
  }
 ],
 "metadata": {
  "kernelspec": {
   "display_name": "Python 3 (ipykernel)",
   "language": "python",
   "name": "python3"
  },
  "language_info": {
   "codemirror_mode": {
    "name": "ipython",
    "version": 3
   },
   "file_extension": ".py",
   "mimetype": "text/x-python",
   "name": "python",
   "nbconvert_exporter": "python",
   "pygments_lexer": "ipython3",
   "version": "3.10.13"
  }
 },
 "nbformat": 4,
 "nbformat_minor": 5
}
