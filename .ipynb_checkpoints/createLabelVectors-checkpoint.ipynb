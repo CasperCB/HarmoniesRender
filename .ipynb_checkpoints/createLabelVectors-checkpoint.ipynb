{
 "cells": [
  {
   "cell_type": "code",
   "execution_count": 6,
   "id": "ae660f06-a2ed-4305-bc3e-1d57e92512af",
   "metadata": {},
   "outputs": [],
   "source": [
    "import json\n",
    "import numpy as np"
   ]
  },
  {
   "cell_type": "code",
   "execution_count": 7,
   "id": "683f74de-1eba-43d4-9170-a128cc8236e6",
   "metadata": {},
   "outputs": [
    {
     "name": "stdout",
     "output_type": "stream",
     "text": [
      "✅ Saved average vectors to C:/Users/lacto/Documents/GitHub/HarmoniesRender/average_token_vectors.csv\n"
     ]
    }
   ],
   "source": [
    "import os\n",
    "import json\n",
    "import pandas as pd\n",
    "from collections import defaultdict\n",
    "\n",
    "# Change this to your labeled vector directory\n",
    "directory_path = 'C:/Users/lacto\\Documents/GitHub/HarmoniesRender/label_vectors/'\n",
    "\n",
    "# Output CSV file\n",
    "output_csv = 'C:/Users/lacto/Documents/GitHub/HarmoniesRender/average_token_vectors.csv'\n",
    "\n",
    "# Collect vectors by label\n",
    "label_vectors = defaultdict(list)\n",
    "\n",
    "for filename in os.listdir(directory_path):\n",
    "    if filename.endswith(\".json\"):\n",
    "        with open(os.path.join(directory_path, filename), \"r\") as f:\n",
    "            data = json.load(f)\n",
    "            for entry in data:\n",
    "                label = entry[\"label\"]\n",
    "                vector = entry[\"vector\"]\n",
    "                label_vectors[label].append(vector)\n",
    "\n",
    "# Compute average vector per label\n",
    "average_vectors = {}\n",
    "for label, vectors in label_vectors.items():\n",
    "    keys = vectors[0].keys()\n",
    "    summed = {k: 0 for k in keys}\n",
    "    for vec in vectors:\n",
    "        for k in keys:\n",
    "            summed[k] += vec[k]\n",
    "    averaged = {k: summed[k] / len(vectors) for k in keys}\n",
    "    average_vectors[label] = averaged\n",
    "\n",
    "# Save to CSV\n",
    "avg_df = pd.DataFrame(average_vectors)\n",
    "avg_df.to_csv(output_csv)\n",
    "\n",
    "print(f\"✅ Saved average vectors to {output_csv}\")"
   ]
  }
 ],
 "metadata": {
  "kernelspec": {
   "display_name": "Python 3 (ipykernel)",
   "language": "python",
   "name": "python3"
  },
  "language_info": {
   "codemirror_mode": {
    "name": "ipython",
    "version": 3
   },
   "file_extension": ".py",
   "mimetype": "text/x-python",
   "name": "python",
   "nbconvert_exporter": "python",
   "pygments_lexer": "ipython3",
   "version": "3.10.13"
  }
 },
 "nbformat": 4,
 "nbformat_minor": 5
}
