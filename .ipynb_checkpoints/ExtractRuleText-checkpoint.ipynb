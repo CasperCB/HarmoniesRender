{
 "cells": [
  {
   "cell_type": "code",
   "execution_count": 1,
   "id": "14ec2605-25d5-4aec-add0-150ca4b74190",
   "metadata": {},
   "outputs": [],
   "source": [
    "import pdfplumber\n",
    "from langchain.text_splitter import CharacterTextSplitter\n",
    "from langchain.embeddings import OllamaEmbeddings\n",
    "from langchain.vectorstores import Chroma"
   ]
  },
  {
   "cell_type": "code",
   "execution_count": 2,
   "id": "b83d9b4a-da87-4a73-bff0-a51d1546dfb8",
   "metadata": {},
   "outputs": [],
   "source": [
    "# extract text\n",
    "all_text = \"\"\n",
    "with pdfplumber.open('HarmoniesRuleBook.pdf') as pdf:\n",
    "    for page in pdf.pages:\n",
    "        all_text += page.extract_text() + '\\n'"
   ]
  },
  {
   "cell_type": "code",
   "execution_count": 3,
   "id": "d7092e56-84de-46a0-87e0-c1e784d5dcde",
   "metadata": {},
   "outputs": [],
   "source": [
    "# chunk text\n",
    "splitter = CharacterTextSplitter(separator=\"\\n\", chunk_size=500, chunk_overlap=50)\n",
    "docs = splitter.create_documents([all_text])"
   ]
  },
  {
   "cell_type": "code",
   "execution_count": 5,
   "id": "cc2eaa25-5233-43bc-bb9b-b1c53e928bb1",
   "metadata": {},
   "outputs": [
    {
     "name": "stderr",
     "output_type": "stream",
     "text": [
      "C:\\Users\\lacto\\anaconda3\\lib\\site-packages\\langchain_core\\_api\\deprecation.py:119: LangChainDeprecationWarning: Since Chroma 0.4.x the manual persistence method is no longer supported as docs are automatically persisted.\n",
      "  warn_deprecated(\n"
     ]
    }
   ],
   "source": [
    "# embed and persist\n",
    "embedding = OllamaEmbeddings(model=\"nomic-embed-text\")\n",
    "vectorstore = Chroma.from_documents(docs, embedding, persist_directory=\"vector_db\")\n",
    "vectorstore.persist()"
   ]
  }
 ],
 "metadata": {
  "kernelspec": {
   "display_name": "Python 3 (ipykernel)",
   "language": "python",
   "name": "python3"
  },
  "language_info": {
   "codemirror_mode": {
    "name": "ipython",
    "version": 3
   },
   "file_extension": ".py",
   "mimetype": "text/x-python",
   "name": "python",
   "nbconvert_exporter": "python",
   "pygments_lexer": "ipython3",
   "version": "3.10.13"
  }
 },
 "nbformat": 4,
 "nbformat_minor": 5
}
