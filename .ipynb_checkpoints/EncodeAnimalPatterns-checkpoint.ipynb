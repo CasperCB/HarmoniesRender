{
 "cells": [
  {
   "cell_type": "code",
   "execution_count": 1,
   "id": "5c98a8c2-305d-42a5-9c6c-e0e97f126671",
   "metadata": {},
   "outputs": [],
   "source": [
    "import os\n",
    "import json"
   ]
  },
  {
   "cell_type": "code",
   "execution_count": 2,
   "id": "2f076356-688c-4802-8717-1186df508ae0",
   "metadata": {},
   "outputs": [],
   "source": [
    "def build_pattern(animal, pattern_spec):\n",
    "    \"\"\"\n",
    "    Create a structured pattern definition for a Harmonies animal card.\n",
    "\n",
    "    Args:\n",
    "        animal (str): Name of the animal\n",
    "        pattern_spec (list of dict): Each dict represents a tile and may contain:\n",
    "            - pos: (dx, dy) relative to anchor hex\n",
    "            - terrain: (optional) token color on top\n",
    "            - stack: (optional) dict with:\n",
    "                - height: exact stack height (int)\n",
    "                - top: token color on top\n",
    "                - bottom: required bottom token color (optional)\n",
    "                - bottom_options: list of allowed bottom colors (optional)\n",
    "            - cube: (optional, bool) True if this tile is where cube is placed (only one tile should have this)\n",
    "\n",
    "    Returns:\n",
    "        dict: Structured pattern dictionary\n",
    "    \"\"\"\n",
    "    pattern = []\n",
    "\n",
    "    for tile in pattern_spec:\n",
    "        dx, dy = tile[\"pos\"]\n",
    "        entry = {\"dx\": dx, \"dy\": dy}\n",
    "\n",
    "        if \"terrain\" in tile:\n",
    "            entry[\"terrain\"] = tile[\"terrain\"]\n",
    "\n",
    "        if \"stack\" in tile:\n",
    "            entry[\"stack_condition\"] = tile[\"stack\"]\n",
    "\n",
    "        if tile.get(\"cube\", False):\n",
    "            entry[\"cube\"] = True\n",
    "\n",
    "        pattern.append(entry)\n",
    "\n",
    "    return {\n",
    "        \"animal\": animal,\n",
    "        \"pattern\": pattern\n",
    "    }\n"
   ]
  },
  {
   "cell_type": "code",
   "execution_count": 3,
   "id": "7ed53ba9-3175-4524-bdaa-306573a917a4",
   "metadata": {},
   "outputs": [],
   "source": [
    "# setup file path\n",
    "json_path = \"animal_patterns.json\"\n",
    "\n",
    "# load patterns\n",
    "if os.path.exists(json_path):\n",
    "    with open(json_path, \"r\") as f:\n",
    "        pattern_list = json.load(f)\n",
    "else:\n",
    "    pattern_list = []\n"
   ]
  },
  {
   "cell_type": "code",
   "execution_count": 26,
   "id": "c3203c1c-c7c8-443a-aa77-d56e103c2e42",
   "metadata": {},
   "outputs": [],
   "source": [
    "# define new pattern\n",
    "new_pattern = build_pattern(\n",
    "    \"butterfly (spirit)\",\n",
    "    pattern_spec=[\n",
    "        {\"pos\": (0, 0), \"terrain\": \"blue\"},\n",
    "        {\"pos\": (-1, -1), \"terrain\": \"yellow\"},\n",
    "        {\"pos\": (0, -2), \"terrain\": \"blue\"},\n",
    "        {\"pos\": (1, -1), \"terrain\": \"yellow\", \"cube\": True}\n",
    "    ]\n",
    ")\n"
   ]
  },
  {
   "cell_type": "code",
   "execution_count": 27,
   "id": "37fe58d1-8598-4b7f-a2e7-f2fb84149052",
   "metadata": {},
   "outputs": [
    {
     "name": "stdout",
     "output_type": "stream",
     "text": [
      "🔁 Updated pattern for 'butterfly (spirit)' in animal_patterns.json\n"
     ]
    }
   ],
   "source": [
    "# Check if animal already exists\n",
    "existing_index = next((i for i, p in enumerate(pattern_list) if p[\"animal\"] == new_pattern[\"animal\"]), None)\n",
    "\n",
    "if existing_index is not None:\n",
    "    pattern_list[existing_index] = new_pattern\n",
    "    action = \"🔁 Updated\"\n",
    "else:\n",
    "    pattern_list.append(new_pattern)\n",
    "    action = \"➕ Added\"\n",
    "\n",
    "# Save\n",
    "with open(json_path, \"w\") as f:\n",
    "    json.dump(pattern_list, f, indent=2)\n",
    "\n",
    "print(f\"{action} pattern for '{new_pattern['animal']}' in {json_path}\")"
   ]
  },
  {
   "cell_type": "code",
   "execution_count": 22,
   "id": "33eddaeb-5239-430d-aa2d-91a1ff3b9eb8",
   "metadata": {},
   "outputs": [
    {
     "name": "stdout",
     "output_type": "stream",
     "text": [
      "{'animal': 'domestic cat (spirit)', 'pattern': [{'dx': 0, 'dy': 0, 'terrain': 'green'}, {'dx': -1, 'dy': -1, 'stack_condition': {'height': 2, 'top': 'red', 'bottom_options': ['gray', 'brown', 'red']}}, {'dx': 1, 'dy': 1, 'stack_condition': {'height': 2, 'top': 'red', 'bottom_options': ['gray', 'brown', 'red']}, 'cube': True}]}\n"
     ]
    }
   ],
   "source": [
    "print(new_pattern)"
   ]
  },
  {
   "cell_type": "code",
   "execution_count": 7,
   "id": "e5a58c25-3464-47fa-8e12-91eacf6c47c9",
   "metadata": {},
   "outputs": [],
   "source": [
    "# 2-tree\n",
    "        # {\"pos\": (1, 0), \"stack\": {\n",
    "        #         \"height\": 2,\n",
    "        #         \"top\": \"green\",\n",
    "        #         \"bottom_options\": [\"brown\"]}}\n",
    "\n",
    "# code for a building\n",
    "# {\"pos\": (1, 0), \"stack\": {\n",
    "        #         \"height\": 2,\n",
    "        #         \"top\": \"red\",\n",
    "        #         \"bottom_options\": [\"gray\", \"brown\", \"red\"]},\n",
    "        #  'cube': True}"
   ]
  },
  {
   "cell_type": "code",
   "execution_count": null,
   "id": "07481677-91b8-4c0f-a75f-8408910d4f70",
   "metadata": {},
   "outputs": [],
   "source": [
    "# new_pattern = build_pattern(\n",
    "#     \"butterfly (spirit)\",\n",
    "#     pattern_spec=[\n",
    "#         {\"pos\": (0, 0), \"terrain\": \"blue\"},\n",
    "#         {\"pos\": (-1, -1), \"terrain\": \"yellow\"},\n",
    "#         {\"pos\": (0, -1), \"terrain\": \"blue\"},\n",
    "#         {\"pos\": (1, -1), \"terrain\": \"yellow\", \"cube\": True}\n",
    "#     ]\n",
    "# )"
   ]
  }
 ],
 "metadata": {
  "kernelspec": {
   "display_name": "Python 3 (ipykernel)",
   "language": "python",
   "name": "python3"
  },
  "language_info": {
   "codemirror_mode": {
    "name": "ipython",
    "version": 3
   },
   "file_extension": ".py",
   "mimetype": "text/x-python",
   "name": "python",
   "nbconvert_exporter": "python",
   "pygments_lexer": "ipython3",
   "version": "3.10.13"
  }
 },
 "nbformat": 4,
 "nbformat_minor": 5
}
